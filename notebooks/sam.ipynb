{
 "cells": [
  {
   "cell_type": "code",
   "execution_count": null,
   "id": "ded7f44a",
   "metadata": {},
   "outputs": [],
   "source": [
    "%load_ext autoreload\n",
    "%autoreload 2\n",
    "\n",
    "import torch\n",
    "from sam2.sam2_image_predictor import SAM2ImagePredictor\n",
    "from utils.data_loading import load_all_color_images\n",
    "\n",
    "COLOR_PATH = \"/local/home/dkorth/Projects/dynamic-scene-graphs/data/living_room_1/color\""
   ]
  },
  {
   "cell_type": "code",
   "execution_count": null,
   "id": "1576922e",
   "metadata": {},
   "outputs": [],
   "source": [
    "images = load_all_color_images(COLOR_PATH)"
   ]
  },
  {
   "cell_type": "code",
   "execution_count": null,
   "id": "6664fad6",
   "metadata": {},
   "outputs": [],
   "source": [
    "from segment import SAM2Segmenter\n",
    "\n",
    "segmenter = SAM2Segmenter(\n",
    "    sam2_checkpoint=\"../checkpoints/sam2.1/sam2.1_hiera_tiny.pt\",\n",
    "    model_cfg=\"configs/sam2.1/sam2.1_hiera_t.yaml\"\n",
    ")\n",
    "\n",
    "masks = segmenter.segment(images[0])"
   ]
  },
  {
   "cell_type": "code",
   "execution_count": null,
   "id": "43f11875",
   "metadata": {},
   "outputs": [],
   "source": [
    "import numpy as np\n",
    "\n",
    "img2 = np.zeros_like(images[0])"
   ]
  },
  {
   "cell_type": "code",
   "execution_count": null,
   "id": "e3860ebf",
   "metadata": {},
   "outputs": [],
   "source": [
    "segmenter.visualize_masks(images[0], masks, only_masks=True)"
   ]
  },
  {
   "cell_type": "code",
   "execution_count": null,
   "id": "1892cb45",
   "metadata": {},
   "outputs": [],
   "source": [
    "# mask_generator_2 = SAM2AutomaticMaskGenerator(\n",
    "#     model=sam2,\n",
    "#     points_per_side=64,\n",
    "#     points_per_batch=128,\n",
    "#     pred_iou_thresh=0.7,\n",
    "#     stability_score_thresh=0.92,\n",
    "#     stability_score_offset=0.7,\n",
    "#     crop_n_layers=1,\n",
    "#     box_nms_thresh=0.7,\n",
    "#     crop_n_points_downscale_factor=2,\n",
    "#     min_mask_region_area=25.0,\n",
    "#     use_m2m=True,\n",
    "# )"
   ]
  }
 ],
 "metadata": {
  "kernelspec": {
   "display_name": "dsg",
   "language": "python",
   "name": "python3"
  },
  "language_info": {
   "codemirror_mode": {
    "name": "ipython",
    "version": 3
   },
   "file_extension": ".py",
   "mimetype": "text/x-python",
   "name": "python",
   "nbconvert_exporter": "python",
   "pygments_lexer": "ipython3",
   "version": "3.11.13"
  }
 },
 "nbformat": 4,
 "nbformat_minor": 5
}
