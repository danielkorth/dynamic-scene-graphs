{
 "cells": [
  {
   "cell_type": "code",
   "execution_count": 1,
   "id": "e874528b",
   "metadata": {},
   "outputs": [],
   "source": [
    "%load_ext autoreload\n",
    "%autoreload 2\n",
    "\n",
    "from rerun_viz.living_room import setup_blueprint\n",
    "from utils.data_loading import load_all_color_images, load_all_depth_images\n",
    "import rerun as rr"
   ]
  },
  {
   "cell_type": "code",
   "execution_count": 3,
   "id": "c95d8896",
   "metadata": {},
   "outputs": [],
   "source": [
    "rgb = load_all_color_images()\n",
    "depth = load_all_depth_images()\n"
   ]
  },
  {
   "cell_type": "code",
   "execution_count": 4,
   "id": "3c4042af",
   "metadata": {},
   "outputs": [
    {
     "name": "stderr",
     "output_type": "stream",
     "text": [
      "\u001b[90m[\u001b[0m2025-07-08T08:15:50Z \u001b[32mINFO \u001b[0m re_grpc_server\u001b[90m]\u001b[0m Listening for gRPC connections on 0.0.0.0:9876. Connect by running `rerun --connect rerun+http://127.0.0.1:9876/proxy`\n"
     ]
    },
    {
     "name": "stderr",
     "output_type": "stream",
     "text": [
      "\u001b[90m[\u001b[0m2025-07-08T08:17:12Z \u001b[1m\u001b[31mERROR\u001b[0m re_grpc_client::message_proxy::write\u001b[90m]\u001b[0m Write messages call failed: status: Unknown, message: \"transport error\", details: [], metadata: MetadataMap { headers: {} }\n"
     ]
    }
   ],
   "source": [
    "import rerun as rr\n",
    "\n",
    "rr.init(\"living_room\", spawn=True)\n",
    "\n",
    "for img in rgb[:10]:\n",
    "    rr.log(\"world/camera/image/rgb\", rr.Image(img, color_model=rr.ColorModel.RGB))\n",
    "\n",
    "for d in depth[:10]:\n",
    "    rr.log(\"world/camera/image/depth\", rr.DepthImage(d))"
   ]
  },
  {
   "cell_type": "code",
   "execution_count": null,
   "id": "67ad0944",
   "metadata": {},
   "outputs": [],
   "source": []
  }
 ],
 "metadata": {
  "kernelspec": {
   "display_name": ".venv",
   "language": "python",
   "name": "python3"
  },
  "language_info": {
   "codemirror_mode": {
    "name": "ipython",
    "version": 3
   },
   "file_extension": ".py",
   "mimetype": "text/x-python",
   "name": "python",
   "nbconvert_exporter": "python",
   "pygments_lexer": "ipython3",
   "version": "3.11.13"
  }
 },
 "nbformat": 4,
 "nbformat_minor": 5
}
