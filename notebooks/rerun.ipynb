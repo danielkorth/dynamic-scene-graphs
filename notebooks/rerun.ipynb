{
 "cells": [
  {
   "cell_type": "code",
   "execution_count": 1,
   "id": "e874528b",
   "metadata": {},
   "outputs": [],
   "source": [
    "%load_ext autoreload\n",
    "%autoreload 2\n",
    "\n",
    "from utils.data_loading import load_all_color_images, load_all_depth_images, read_trajectory\n",
    "import rerun as rr\n",
    "import numpy as np "
   ]
  },
  {
   "cell_type": "code",
   "execution_count": 3,
   "id": "a85ece54",
   "metadata": {},
   "outputs": [],
   "source": [
    "import rerun.blueprint as rrb\n",
    "def setup_blueprint():\n",
    "    blueprint = rrb.Blueprint(\n",
    "        rrb.Horizontal(\n",
    "                rrb.Vertical(\n",
    "                    rrb.Spatial3DView(name=\"3D\", origin=\"world\", line_grid=rrb.archetypes.LineGrid3D(plane=rr.components.Plane3D(np.array([0, 1, 0])))),\n",
    "                ),\n",
    "                rrb.Vertical(\n",
    "                    rrb.Spatial2DView(name=\"RGB\", origin=\"world/camera/image\", contents=\"world/camera/image/rgb\"),\n",
    "                    rrb.Spatial2DView(name=\"Depth\", origin=\"world/camera/image\", contents=\"world/camera/image/depth\"),\n",
    "                    name=\"2D\",\n",
    "                ),\n",
    "            ),\n",
    "    )\n",
    "    return blueprint\n",
    "\n",
    "rr.init(\"something3\", spawn=True, default_blueprint=setup_blueprint())"
   ]
  },
  {
   "cell_type": "code",
   "execution_count": 4,
   "id": "c95d8896",
   "metadata": {},
   "outputs": [],
   "source": [
    "rgb = load_all_color_images()\n",
    "depth = load_all_depth_images()\n",
    "traj = read_trajectory(\"/Users/korth/Projects/dynamic-scene-graphs/data/living_room_1/livingroom1-traj.txt\")"
   ]
  },
  {
   "cell_type": "code",
   "execution_count": null,
   "id": "3c4042af",
   "metadata": {},
   "outputs": [],
   "source": [
    "import rerun as rr\n",
    "\n",
    "rr.set_time(timeline=\"world/camera/image\", sequence=0)\n",
    "\n",
    "rr.log(\"world/camera/image\", rr.ViewCoordinates.RDF)\n",
    "\n",
    "rr.log(\"world/camera/image\", rr.Pinhole(\n",
    "    resolution=[640, 480],\n",
    "    principal_point=[320, 240],\n",
    "    focal_length=500,\n",
    "))\n",
    "\n",
    "for i, (d, img) in enumerate(zip(depth, rgb[:100])):\n",
    "    rr.log(\"world/camera/image/rgb\", rr.Image(img, color_model=rr.ColorModel.RGB))\n",
    "    rr.log(\"world/camera/image/depth\", rr.DepthImage(d/1000))\n",
    "    rr.set_time(timeline=\"world/camera/image\", sequence=i)\n",
    "\n",
    "    rr.log(\"world/camera\", rr.Transform3D(\n",
    "        rotation=rr.RotationAxisAngle(axis=traj[i].rotation_axis_angle, angle=np.linalg.norm(traj[i].rotation_axis_angle)),\n",
    "        translation=traj[i].translation\n",
    "    ))"
   ]
  },
  {
   "cell_type": "code",
   "execution_count": null,
   "id": "56775622",
   "metadata": {},
   "outputs": [],
   "source": []
  }
 ],
 "metadata": {
  "kernelspec": {
   "display_name": "dsg",
   "language": "python",
   "name": "python3"
  },
  "language_info": {
   "codemirror_mode": {
    "name": "ipython",
    "version": 3
   },
   "file_extension": ".py",
   "mimetype": "text/x-python",
   "name": "python",
   "nbconvert_exporter": "python",
   "pygments_lexer": "ipython3",
   "version": "3.11.13"
  }
 },
 "nbformat": 4,
 "nbformat_minor": 5
}
